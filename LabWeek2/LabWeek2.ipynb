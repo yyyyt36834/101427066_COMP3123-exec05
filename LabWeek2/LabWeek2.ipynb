{
  "cells": [
    {
      "cell_type": "markdown",
      "metadata": {
        "id": "0mAxgWloI7CK"
      },
      "source": [
        "# Logistic Regression as a Single Neuron Model"
      ]
    },
    {
      "cell_type": "markdown",
      "metadata": {
        "id": "16LGF3dq4mYD"
      },
      "source": [
        "## Imports"
      ]
    },
    {
      "cell_type": "code",
      "execution_count": 1,
      "metadata": {
        "id": "_r0MBq9GzGlj"
      },
      "outputs": [],
      "source": [
        "import numpy as np\n",
        "import h5py\n",
        "import requests\n",
        "import os\n",
        "import matplotlib.pyplot as plt"
      ]
    },
    {
      "cell_type": "markdown",
      "metadata": {
        "id": "UNOHCcMAWBa4"
      },
      "source": [
        "## Helper Functions (Just run this cell - no need to go through the code in helper functions)"
      ]
    },
    {
      "cell_type": "code",
      "execution_count": 2,
      "metadata": {
        "id": "HAgV4SZdzF0h"
      },
      "outputs": [],
      "source": [
        "def download_file(url, local_filename):\n",
        "    \"\"\"\n",
        "    Downloads a file from a URL and saves it locally.\n",
        "    \"\"\"\n",
        "    if not os.path.exists(local_filename):\n",
        "        print(f\"Downloading {local_filename}...\")\n",
        "        response = requests.get(url)\n",
        "        if response.status_code == 200:\n",
        "            with open(local_filename, 'wb') as f:\n",
        "                f.write(response.content)\n",
        "            print(f\"File downloaded: {local_filename}\")\n",
        "        else:\n",
        "            raise Exception(f\"Failed to download file from {url}. Status code: {response.status_code}\")\n",
        "    else:\n",
        "        print(f\"File already exists: {local_filename}\")\n",
        "\n",
        "def load_dataset():\n",
        "    # URLs of the .h5 files\n",
        "    train_url = 'https://github.com/PyDataGBC/PyML2025/raw/refs/heads/main/LabWeek2/dataset/train_catvnoncat.h5'\n",
        "    test_url = 'https://github.com/PyDataGBC/PyML2025/raw/refs/heads/main/LabWeek2/dataset/test_catvnoncat.h5'\n",
        "\n",
        "    # Local file paths\n",
        "    train_file = 'train_catvnoncat.h5'\n",
        "    test_file = 'test_catvnoncat.h5'\n",
        "\n",
        "    # Download the files if not already present\n",
        "    download_file(train_url, train_file)\n",
        "    download_file(test_url, test_file)\n",
        "\n",
        "    # Open the files using h5py\n",
        "    train_dataset = h5py.File(train_file, \"r\")\n",
        "    train_set_x_orig = np.array(train_dataset[\"train_set_x\"][:])  # Train set features\n",
        "    train_set_y_orig = np.array(train_dataset[\"train_set_y\"][:])  # Train set labels\n",
        "\n",
        "    test_dataset = h5py.File(test_file, \"r\")\n",
        "    test_set_x_orig = np.array(test_dataset[\"test_set_x\"][:])  # Test set features\n",
        "    test_set_y_orig = np.array(test_dataset[\"test_set_y\"][:])  # Test set labels\n",
        "\n",
        "    classes = np.array(test_dataset[\"list_classes\"][:])  # List of classes\n",
        "\n",
        "    # Reshape labels\n",
        "    train_set_y_orig = train_set_y_orig.reshape((1, train_set_y_orig.shape[0]))\n",
        "    test_set_y_orig = test_set_y_orig.reshape((1, test_set_y_orig.shape[0]))\n",
        "\n",
        "    return train_set_x_orig, train_set_y_orig, test_set_x_orig, test_set_y_orig, classes"
      ]
    },
    {
      "cell_type": "markdown",
      "metadata": {
        "id": "JhzB-_zD4sUH"
      },
      "source": [
        "## Importing Dataset"
      ]
    },
    {
      "cell_type": "code",
      "execution_count": 3,
      "metadata": {
        "colab": {
          "base_uri": "https://localhost:8080/"
        },
        "id": "VDC_aGp_zLzE",
        "outputId": "e3022abd-a3c2-4296-f00e-e6da01e88dec"
      },
      "outputs": [
        {
          "output_type": "stream",
          "name": "stdout",
          "text": [
            "Downloading train_catvnoncat.h5...\n",
            "File downloaded: train_catvnoncat.h5\n",
            "Downloading test_catvnoncat.h5...\n",
            "File downloaded: test_catvnoncat.h5\n"
          ]
        }
      ],
      "source": [
        "train_set_x_orig, train_set_y, test_set_x_orig, test_set_y, classes = load_dataset()"
      ]
    },
    {
      "cell_type": "markdown",
      "metadata": {
        "id": "43XfhBql4xHz"
      },
      "source": [
        "## Data Visualization"
      ]
    },
    {
      "cell_type": "code",
      "execution_count": 5,
      "metadata": {
        "colab": {
          "base_uri": "https://localhost:8080/",
          "height": 450
        },
        "id": "3BTUPBQvzPpW",
        "outputId": "4c01d717-c455-4f17-882f-f24f5e234be9"
      },
      "outputs": [
        {
          "output_type": "stream",
          "name": "stdout",
          "text": [
            "label:  [0]\n"
          ]
        },
        {
          "output_type": "display_data",
          "data": {
            "text/plain": [
              "<Figure size 640x480 with 1 Axes>"
            ],
            "image/png": "[encoded data removed]"
          },
          "metadata": {}
        }
      ],
      "source": [
        "# Example of a picture\n",
        "index = 25   # select a number between 0 and 208\n",
        "#index = np.random.randint(0, 200)  # you can also generate a random number and see the different imagge each time\n",
        "plt.imshow(train_set_x_orig[index])\n",
        "print(\"label: \", train_set_y[:, index])"
      ]
    },
    {
      "cell_type": "markdown",
      "metadata": {
        "id": "lMMLsPL5jgSF"
      },
      "source": [
        "### **Exercise 1:** Take a look at five different images in train/test set. Try to see both cat and non-cat samples."
      ]
    },
    {
      "cell_type": "code",
      "execution_count": 15,
      "metadata": {
        "id": "hqGL_XaXj2OP",
        "outputId": "2aee193a-8b25-4f17-e604-6a4aaf413cee",
        "colab": {
          "base_uri": "https://localhost:8080/",
          "height": 105
        }
      },
      "outputs": [
        {
          "output_type": "execute_result",
          "data": {
            "text/plain": [
              "array([[[ 12,  20,   2],\n",
              "        [  9,  17,   3],\n",
              "        [ 13,  20,   7],\n",
              "        ...,\n",
              "        [223, 229, 232],\n",
              "        [199, 211, 215],\n",
              "        [246, 254, 252]],\n",
              "\n",
              "       [[ 15,  22,   8],\n",
              "        [  9,  19,   3],\n",
              "        [  7,  15,   3],\n",
              "        ...,\n",
              "        [217, 224, 228],\n",
              "        [186, 199, 207],\n",
              "        [224, 235, 236]],\n",
              "\n",
              "       [[ 12,  21,   7],\n",
              "        [  7,  17,   2],\n",
              "        [  7,  18,   4],\n",
              "        ...,\n",
              "        [139, 153, 147],\n",
              "        [132, 148, 142],\n",
              "        [126, 144, 134]],\n",
              "\n",
              "       ...,\n",
              "\n",
              "       [[ 56,  58,  49],\n",
              "        [ 47,  50,  43],\n",
              "        [ 48,  50,  44],\n",
              "        ...,\n",
              "        [ 11,  16,  17],\n",
              "        [ 10,  11,   8],\n",
              "        [ 11,  12,   7]],\n",
              "\n",
              "       [[ 65,  62,  48],\n",
              "        [ 66,  66,  55],\n",
              "        [ 75,  75,  65],\n",
              "        ...,\n",
              "        [  9,  12,  11],\n",
              "        [  9,  11,   7],\n",
              "        [ 11,  12,   7]],\n",
              "\n",
              "       [[ 58,  54,  38],\n",
              "        [ 72,  70,  56],\n",
              "        [ 77,  77,  67],\n",
              "        ...,\n",
              "        [ 10,  13,  11],\n",
              "        [ 10,  12,   7],\n",
              "        [  9,  11,   5]]], dtype=uint8)"
            ],
            "text/html": [
              "<style>\n",
              "      .ndarray_repr .ndarray_raw_data {\n",
              "        display: none;\n",
              "      }\n",
              "      .ndarray_repr.show_array .ndarray_raw_data {\n",
              "        display: block;\n",
              "      }\n",
              "      .ndarray_repr.show_array .ndarray_image_preview {\n",
              "        display: none;\n",
              "      }\n",
              "      </style>\n",
              "      <div id=\"id-86587a4f-e30b-4ca3-9098-d74ed13db678\" class=\"ndarray_repr\"><pre>ndarray (64, 64, 3) <button style=\"padding: 0 2px;\">show data</button></pre><img src=\"data:image/png;base64,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\" class=\"ndarray_image_preview\" /><pre class=\"ndarray_raw_data\">array([[[ 12,  20,   2],\n",
              "        [  9,  17,   3],\n",
              "        [ 13,  20,   7],\n",
              "        ...,\n",
              "        [223, 229, 232],\n",
              "        [199, 211, 215],\n",
              "        [246, 254, 252]],\n",
              "\n",
              "       [[ 15,  22,   8],\n",
              "        [  9,  19,   3],\n",
              "        [  7,  15,   3],\n",
              "        ...,\n",
              "        [217, 224, 228],\n",
              "        [186, 199, 207],\n",
              "        [224, 235, 236]],\n",
              "\n",
              "       [[ 12,  21,   7],\n",
              "        [  7,  17,   2],\n",
              "        [  7,  18,   4],\n",
              "        ...,\n",
              "        [139, 153, 147],\n",
              "        [132, 148, 142],\n",
              "        [126, 144, 134]],\n",
              "\n",
              "       ...,\n",
              "\n",
              "       [[ 56,  58,  49],\n",
              "        [ 47,  50,  43],\n",
              "        [ 48,  50,  44],\n",
              "        ...,\n",
              "        [ 11,  16,  17],\n",
              "        [ 10,  11,   8],\n",
              "        [ 11,  12,   7]],\n",
              "\n",
              "       [[ 65,  62,  48],\n",
              "        [ 66,  66,  55],\n",
              "        [ 75,  75,  65],\n",
              "        ...,\n",
              "        [  9,  12,  11],\n",
              "        [  9,  11,   7],\n",
              "        [ 11,  12,   7]],\n",
              "\n",
              "       [[ 58,  54,  38],\n",
              "        [ 72,  70,  56],\n",
              "        [ 77,  77,  67],\n",
              "        ...,\n",
              "        [ 10,  13,  11],\n",
              "        [ 10,  12,   7],\n",
              "        [  9,  11,   5]]], dtype=uint8)</pre></div><script>\n",
              "      (() => {\n",
              "      const titles = ['show data', 'hide data'];\n",
              "      let index = 0\n",
              "      document.querySelector('#id-86587a4f-e30b-4ca3-9098-d74ed13db678 button').onclick = (e) => {\n",
              "        document.querySelector('#id-86587a4f-e30b-4ca3-9098-d74ed13db678').classList.toggle('show_array');\n",
              "        index = (++index) % 2;\n",
              "        document.querySelector('#id-86587a4f-e30b-4ca3-9098-d74ed13db678 button').textContent = titles[index];\n",
              "        e.preventDefault();\n",
              "        e.stopPropagation();\n",
              "      }\n",
              "      })();\n",
              "    </script>"
            ]
          },
          "metadata": {},
          "execution_count": 15
        }
      ],
      "source": [
        "#your code here\n",
        "test_set_x_orig[21]\n",
        "\n"
      ]
    },
    {
      "cell_type": "markdown",
      "metadata": {
        "id": "3gL2KxE7r0h7"
      },
      "source": [
        "### **Exercise 2:** Print `train_set_y` array to see the labels of the data. What percentage of the pictures in `train set` contain cats?"
      ]
    },
    {
      "cell_type": "code",
      "execution_count": 20,
      "metadata": {
        "id": "phnJSNEDsIsc",
        "outputId": "47245a8e-eec8-4439-ebbc-625b53706e79",
        "colab": {
          "base_uri": "https://localhost:8080/"
        }
      },
      "outputs": [
        {
          "output_type": "execute_result",
          "data": {
            "text/plain": [
              "(1, 209)"
            ]
          },
          "metadata": {},
          "execution_count": 20
        }
      ],
      "source": [
        "# your code here\n",
        "train_set_y\n",
        "#train_set_y.flatten().shape\n",
        "\n"
      ]
    },
    {
      "cell_type": "markdown",
      "metadata": {
        "id": "ZzIKs9d546Bx"
      },
      "source": [
        "## Data Pre-processing"
      ]
    },
    {
      "cell_type": "markdown",
      "metadata": {
        "id": "pOpUDYyXMXI0"
      },
      "source": [
        "### Brief Theory: Numerical Representation of Images"
      ]
    },
    {
      "cell_type": "markdown",
      "metadata": {
        "id": "1Ybd7jVO7d59"
      },
      "source": [
        "![preprocessing](https://raw.githubusercontent.com/PyDataGBC/PyML2025/refs/heads/main/LabWeek2/assets/imvectorkiank.png)"
      ]
    },
    {
      "cell_type": "markdown",
      "metadata": {
        "id": "ww93xSbYKaOk"
      },
      "source": [
        "### **Example 1:** Numerical Representation of an Image"
      ]
    },
    {
      "cell_type": "markdown",
      "metadata": {
        "id": "9X8lR04-sOcq"
      },
      "source": [
        "![](https://raw.githubusercontent.com/PyDataGBC/PyML2025/refs/heads/main/LabWeek2/assets/imtovec_example.webp)"
      ]
    },
    {
      "cell_type": "markdown",
      "metadata": {
        "id": "a26_GLA_KYDd"
      },
      "source": [
        "#### Step 1: Numerical representation of each channel (`MATRIX` format)"
      ]
    },
    {
      "cell_type": "code",
      "execution_count": 21,
      "metadata": {
        "id": "dcg35LAIKYDd",
        "outputId": "9ff658cf-7a70-472b-fc06-2209148520e2",
        "colab": {
          "base_uri": "https://localhost:8080/"
        }
      },
      "outputs": [
        {
          "output_type": "stream",
          "name": "stdout",
          "text": [
            "Red Channel\n",
            "(3, 3)\n",
            "[[255 123 135]\n",
            " [ 44  12  15]\n",
            " [ 56  87  90]]\n",
            "Green Channel\n",
            "(3, 3)\n",
            "[[255 133 175]\n",
            " [ 24 123 169]\n",
            " [ 98  66  77]]\n",
            "Bue Channel\n",
            "(3, 3)\n",
            "[[ 66  54  88]\n",
            " [ 55  98  54]\n",
            " [ 87 142  89]]\n"
          ]
        }
      ],
      "source": [
        "red_channel = np.array([[255, 123, 135], [44, 12, 15], [56, 87, 90]]) # 2d array: Matrix\n",
        "green_channel = np.array([[255, 133, 175], [24, 123, 169], [98, 66, 77]])\n",
        "blue_channel = np.array([[66, 54, 88], [55, 98, 54], [87, 142, 89]])\n",
        "\n",
        "print(\"Red Channel\")\n",
        "print(red_channel.shape)\n",
        "print(red_channel)\n",
        "\n",
        "print(\"Green Channel\")\n",
        "print(green_channel.shape)\n",
        "print(green_channel)\n",
        "\n",
        "print(\"Bue Channel\")\n",
        "print(blue_channel.shape)\n",
        "print(blue_channel)\n",
        "\n"
      ]
    },
    {
      "cell_type": "markdown",
      "metadata": {
        "id": "vSs8yb8gKYDe"
      },
      "source": [
        "#### Step 2: Putting the channels together in the form of a `TENSOR`"
      ]
    },
    {
      "cell_type": "code",
      "execution_count": 22,
      "metadata": {
        "id": "fHLbEQqEKYDe",
        "outputId": "6587701b-6e42-42fd-d9a0-50f8da904529",
        "colab": {
          "base_uri": "https://localhost:8080/"
        }
      },
      "outputs": [
        {
          "output_type": "stream",
          "name": "stdout",
          "text": [
            "channel, height, width\n",
            "(3, 3, 3)\n",
            "[[[255 123 135]\n",
            "  [ 44  12  15]\n",
            "  [ 56  87  90]]\n",
            "\n",
            " [[255 133 175]\n",
            "  [ 24 123 169]\n",
            "  [ 98  66  77]]\n",
            "\n",
            " [[ 66  54  88]\n",
            "  [ 55  98  54]\n",
            "  [ 87 142  89]]]\n"
          ]
        }
      ],
      "source": [
        "print(\"channel, height, width\")\n",
        "airplane_image = np.array([red_channel, green_channel, blue_channel])  # 3d array: Tensor\n",
        "print(airplane_image.shape)\n",
        "print(airplane_image)"
      ]
    },
    {
      "cell_type": "markdown",
      "metadata": {
        "id": "KqzVZfBzKYDe"
      },
      "source": [
        "#### Step 3: Flatten the `tensor` into a `VECTOR`"
      ]
    },
    {
      "cell_type": "code",
      "execution_count": 23,
      "metadata": {
        "colab": {
          "base_uri": "https://localhost:8080/"
        },
        "id": "a99vH96il50J",
        "outputId": "39c6561f-d46a-482c-ae62-cb5395c769ec"
      },
      "outputs": [
        {
          "output_type": "stream",
          "name": "stdout",
          "text": [
            "(27,)\n",
            "[255 123 135  44  12  15  56  87  90 255 133 175  24 123 169  98  66  77\n",
            "  66  54  88  55  98  54  87 142  89]\n"
          ]
        }
      ],
      "source": [
        "airplane_flatten = airplane_image.flatten()   # 1d array: Vector\n",
        "print(airplane_flatten.shape)\n",
        "print(airplane_flatten)"
      ]
    },
    {
      "cell_type": "markdown",
      "metadata": {
        "id": "PNH054_3icPa"
      },
      "source": [
        "### **Exercise 3:** Take one sample form train set again and check the shape of it. Try to interpret the numbers in the `shape`.\n",
        "\n",
        "**Notes:**\n",
        "- The images are 64x64 `pixels`.\n",
        "- There are 3 RGB `channels`."
      ]
    },
    {
      "cell_type": "code",
      "execution_count": 28,
      "metadata": {
        "id": "NXpWZWGti3FC",
        "outputId": "e4d79812-c937-41ce-b29e-893528f1ca28",
        "colab": {
          "base_uri": "https://localhost:8080/"
        }
      },
      "outputs": [
        {
          "output_type": "execute_result",
          "data": {
            "text/plain": [
              "(64, 64, 3)"
            ]
          },
          "metadata": {},
          "execution_count": 28
        }
      ],
      "source": [
        "sample_index = 25\n",
        "sample_image = train_set_x_orig[25]\n",
        "sample_image.shape\n",
        "# 64 times 64 pixels represents a single image and each pixel is consist of three differnct colors, that is why this shape\n",
        "\n",
        "#your code here"
      ]
    },
    {
      "cell_type": "markdown",
      "metadata": {
        "id": "VlnYKqHxKYDe"
      },
      "source": [
        "### **Exercise 4:** Fallaten the this sample image? what is the size of the flattened image? why this number?"
      ]
    },
    {
      "cell_type": "code",
      "execution_count": 29,
      "metadata": {
        "id": "_mW1g317KYDf",
        "outputId": "19a1fa10-7f37-4295-87ac-0875f897bb40",
        "colab": {
          "base_uri": "https://localhost:8080/"
        }
      },
      "outputs": [
        {
          "output_type": "execute_result",
          "data": {
            "text/plain": [
              "(12288,)"
            ]
          },
          "metadata": {},
          "execution_count": 29
        }
      ],
      "source": [
        "sample_image.flatten().shape\n",
        "# 64 times 64 times 3 becomes this number and it represens a one dimentional array"
      ]
    },
    {
      "cell_type": "markdown",
      "metadata": {
        "id": "gJNlOz_Dnvi3"
      },
      "source": [
        "### **Data Preprocessing:** Flattening the entrie Train and Test Datasets\n",
        "\n",
        "**Note:** We're going to talk about the details of the following code in next sessions. For now just pay attentin to the output shapes of data."
      ]
    },
    {
      "cell_type": "code",
      "execution_count": 30,
      "metadata": {
        "colab": {
          "base_uri": "https://localhost:8080/"
        },
        "id": "Vlg5rBn4nOgf",
        "outputId": "6876e717-fa30-4d40-8f88-b5ace118a479"
      },
      "outputs": [
        {
          "output_type": "stream",
          "name": "stdout",
          "text": [
            "Train set shape:  (209, 12288)\n",
            "Test set shape:  (50, 12288)\n",
            "Train label shape:  (209,)\n",
            "Test label shape:  (50,)\n"
          ]
        }
      ],
      "source": [
        "X_train = train_set_x_orig.reshape(train_set_x_orig.shape[0], -1)\n",
        "print(\"Train set shape: \", X_train.shape)\n",
        "\n",
        "X_test = test_set_x_orig.reshape(test_set_x_orig.shape[0], -1)\n",
        "print(\"Test set shape: \", X_test.shape)\n",
        "\n",
        "y_train = train_set_y[0]\n",
        "print(\"Train label shape: \", y_train.shape)\n",
        "\n",
        "y_test = test_set_y[0]\n",
        "print(\"Test label shape: \", y_test.shape)\n",
        "\n"
      ]
    },
    {
      "cell_type": "markdown",
      "metadata": {
        "id": "R2WZpmXWKYDf"
      },
      "source": [
        "**Important Notes:**\n",
        "- We have 209 samples in the train set, and\n",
        "- 50 samples in the test set.\n",
        "- each sample has 64x64x3=12288 `features`. So each pixel can be considered as one feature.\n",
        "- remember that we had `4` features in `IRIS` dataset and now we have more than `10,000` features."
      ]
    },
    {
      "cell_type": "markdown",
      "metadata": {
        "id": "8hTAntEGmGH8"
      },
      "source": [
        "## Implementing Logistic Regression\n",
        "\n",
        "This is what happens under the hood when you use the `LogisticRegression` classifier in scikit-learn."
      ]
    },
    {
      "cell_type": "markdown",
      "metadata": {
        "id": "iqZ30WFX9F6e"
      },
      "source": [
        "![](https://raw.githubusercontent.com/PyDataGBC/PyML2025/refs/heads/main/LabWeek2/assets/LogReg_kiank.png)"
      ]
    },
    {
      "cell_type": "markdown",
      "metadata": {
        "id": "xY2HkQU4KYDf"
      },
      "source": [
        "### **Example 2:** What is the label in the following hypothetical input?\n",
        "\n",
        "![](https://raw.githubusercontent.com/PyDataGBC/PyML2025/refs/heads/main/LabWeek2/assets/toyexample.png)"
      ]
    },
    {
      "cell_type": "code",
      "execution_count": null,
      "metadata": {
        "id": "Yd_4-nOEKYDf"
      },
      "outputs": [],
      "source": [
        "#your calculation here"
      ]
    },
    {
      "cell_type": "markdown",
      "metadata": {
        "id": "Gn0UooRwpzRk"
      },
      "source": [
        "### **Exercise 6:** Train a `LogisticRegression` classifier to run a binary classification on the flattened cat pictures."
      ]
    },
    {
      "cell_type": "code",
      "execution_count": 32,
      "metadata": {
        "id": "Lcc0357e9IOH"
      },
      "outputs": [],
      "source": [
        "from sklearn.linear_model import LogisticRegression\n",
        "from sklearn.metrics import accuracy_score"
      ]
    },
    {
      "cell_type": "code",
      "execution_count": 33,
      "metadata": {
        "id": "mF7xJBuzq6P2"
      },
      "outputs": [],
      "source": [
        "#your code here\n",
        "model = LogisticRegression()"
      ]
    },
    {
      "cell_type": "code",
      "source": [
        "model.fit(X_train, y_train)"
      ],
      "metadata": {
        "id": "8Ev3JU0ARP1L",
        "outputId": "3c81bb3f-d91c-42fe-c1a4-06efc0b86dc5",
        "colab": {
          "base_uri": "https://localhost:8080/",
          "height": 80
        }
      },
      "execution_count": 34,
      "outputs": [
        {
          "output_type": "execute_result",
          "data": {
            "text/plain": [
              "LogisticRegression()"
            ],
            "text/html": [
              "<style>#sk-container-id-1 {\n",
              "  /* Definition of color scheme common for light and dark mode */\n",
              "  --sklearn-color-text: #000;\n",
              "  --sklearn-color-text-muted: #666;\n",
              "  --sklearn-color-line: gray;\n",
              "  /* Definition of color scheme for unfitted estimators */\n",
              "  --sklearn-color-unfitted-level-0: #fff5e6;\n",
              "  --sklearn-color-unfitted-level-1: #f6e4d2;\n",
              "  --sklearn-color-unfitted-level-2: #ffe0b3;\n",
              "  --sklearn-color-unfitted-level-3: chocolate;\n",
              "  /* Definition of color scheme for fitted estimators */\n",
              "  --sklearn-color-fitted-level-0: #f0f8ff;\n",
              "  --sklearn-color-fitted-level-1: #d4ebff;\n",
              "  --sklearn-color-fitted-level-2: #b3dbfd;\n",
              "  --sklearn-color-fitted-level-3: cornflowerblue;\n",
              "\n",
              "  /* Specific color for light theme */\n",
              "  --sklearn-color-text-on-default-background: var(--sg-text-color, var(--theme-code-foreground, var(--jp-content-font-color1, black)));\n",
              "  --sklearn-color-background: var(--sg-background-color, var(--theme-background, var(--jp-layout-color0, white)));\n",
              "  --sklearn-color-border-box: var(--sg-text-color, var(--theme-code-foreground, var(--jp-content-font-color1, black)));\n",
              "  --sklearn-color-icon: #696969;\n",
              "\n",
              "  @media (prefers-color-scheme: dark) {\n",
              "    /* Redefinition of color scheme for dark theme */\n",
              "    --sklearn-color-text-on-default-background: var(--sg-text-color, var(--theme-code-foreground, var(--jp-content-font-color1, white)));\n",
              "    --sklearn-color-background: var(--sg-background-color, var(--theme-background, var(--jp-layout-color0, #111)));\n",
              "    --sklearn-color-border-box: var(--sg-text-color, var(--theme-code-foreground, var(--jp-content-font-color1, white)));\n",
              "    --sklearn-color-icon: #878787;\n",
              "  }\n",
              "}\n",
              "\n",
              "#sk-container-id-1 {\n",
              "  color: var(--sklearn-color-text);\n",
              "}\n",
              "\n",
              "#sk-container-id-1 pre {\n",
              "  padding: 0;\n",
              "}\n",
              "\n",
              "#sk-container-id-1 input.sk-hidden--visually {\n",
              "  border: 0;\n",
              "  clip: rect(1px 1px 1px 1px);\n",
              "  clip: rect(1px, 1px, 1px, 1px);\n",
              "  height: 1px;\n",
              "  margin: -1px;\n",
              "  overflow: hidden;\n",
              "  padding: 0;\n",
              "  position: absolute;\n",
              "  width: 1px;\n",
              "}\n",
              "\n",
              "#sk-container-id-1 div.sk-dashed-wrapped {\n",
              "  border: 1px dashed var(--sklearn-color-line);\n",
              "  margin: 0 0.4em 0.5em 0.4em;\n",
              "  box-sizing: border-box;\n",
              "  padding-bottom: 0.4em;\n",
              "  background-color: var(--sklearn-color-background);\n",
              "}\n",
              "\n",
              "#sk-container-id-1 div.sk-container {\n",
              "  /* jupyter's `normalize.less` sets `[hidden] { display: none; }`\n",
              "     but bootstrap.min.css set `[hidden] { display: none !important; }`\n",
              "     so we also need the `!important` here to be able to override the\n",
              "     default hidden behavior on the sphinx rendered scikit-learn.org.\n",
              "     See: https://github.com/scikit-learn/scikit-learn/issues/21755 */\n",
              "  display: inline-block !important;\n",
              "  position: relative;\n",
              "}\n",
              "\n",
              "#sk-container-id-1 div.sk-text-repr-fallback {\n",
              "  display: none;\n",
              "}\n",
              "\n",
              "div.sk-parallel-item,\n",
              "div.sk-serial,\n",
              "div.sk-item {\n",
              "  /* draw centered vertical line to link estimators */\n",
              "  background-image: linear-gradient(var(--sklearn-color-text-on-default-background), var(--sklearn-color-text-on-default-background));\n",
              "  background-size: 2px 100%;\n",
              "  background-repeat: no-repeat;\n",
              "  background-position: center center;\n",
              "}\n",
              "\n",
              "/* Parallel-specific style estimator block */\n",
              "\n",
              "#sk-container-id-1 div.sk-parallel-item::after {\n",
              "  content: \"\";\n",
              "  width: 100%;\n",
              "  border-bottom: 2px solid var(--sklearn-color-text-on-default-background);\n",
              "  flex-grow: 1;\n",
              "}\n",
              "\n",
              "#sk-container-id-1 div.sk-parallel {\n",
              "  display: flex;\n",
              "  align-items: stretch;\n",
              "  justify-content: center;\n",
              "  background-color: var(--sklearn-color-background);\n",
              "  position: relative;\n",
              "}\n",
              "\n",
              "#sk-container-id-1 div.sk-parallel-item {\n",
              "  display: flex;\n",
              "  flex-direction: column;\n",
              "}\n",
              "\n",
              "#sk-container-id-1 div.sk-parallel-item:first-child::after {\n",
              "  align-self: flex-end;\n",
              "  width: 50%;\n",
              "}\n",
              "\n",
              "#sk-container-id-1 div.sk-parallel-item:last-child::after {\n",
              "  align-self: flex-start;\n",
              "  width: 50%;\n",
              "}\n",
              "\n",
              "#sk-container-id-1 div.sk-parallel-item:only-child::after {\n",
              "  width: 0;\n",
              "}\n",
              "\n",
              "/* Serial-specific style estimator block */\n",
              "\n",
              "#sk-container-id-1 div.sk-serial {\n",
              "  display: flex;\n",
              "  flex-direction: column;\n",
              "  align-items: center;\n",
              "  background-color: var(--sklearn-color-background);\n",
              "  padding-right: 1em;\n",
              "  padding-left: 1em;\n",
              "}\n",
              "\n",
              "\n",
              "/* Toggleable style: style used for estimator/Pipeline/ColumnTransformer box that is\n",
              "clickable and can be expanded/collapsed.\n",
              "- Pipeline and ColumnTransformer use this feature and define the default style\n",
              "- Estimators will overwrite some part of the style using the `sk-estimator` class\n",
              "*/\n",
              "\n",
              "/* Pipeline and ColumnTransformer style (default) */\n",
              "\n",
              "#sk-container-id-1 div.sk-toggleable {\n",
              "  /* Default theme specific background. It is overwritten whether we have a\n",
              "  specific estimator or a Pipeline/ColumnTransformer */\n",
              "  background-color: var(--sklearn-color-background);\n",
              "}\n",
              "\n",
              "/* Toggleable label */\n",
              "#sk-container-id-1 label.sk-toggleable__label {\n",
              "  cursor: pointer;\n",
              "  display: flex;\n",
              "  width: 100%;\n",
              "  margin-bottom: 0;\n",
              "  padding: 0.5em;\n",
              "  box-sizing: border-box;\n",
              "  text-align: center;\n",
              "  align-items: start;\n",
              "  justify-content: space-between;\n",
              "  gap: 0.5em;\n",
              "}\n",
              "\n",
              "#sk-container-id-1 label.sk-toggleable__label .caption {\n",
              "  font-size: 0.6rem;\n",
              "  font-weight: lighter;\n",
              "  color: var(--sklearn-color-text-muted);\n",
              "}\n",
              "\n",
              "#sk-container-id-1 label.sk-toggleable__label-arrow:before {\n",
              "  /* Arrow on the left of the label */\n",
              "  content: \"▸\";\n",
              "  float: left;\n",
              "  margin-right: 0.25em;\n",
              "  color: var(--sklearn-color-icon);\n",
              "}\n",
              "\n",
              "#sk-container-id-1 label.sk-toggleable__label-arrow:hover:before {\n",
              "  color: var(--sklearn-color-text);\n",
              "}\n",
              "\n",
              "/* Toggleable content - dropdown */\n",
              "\n",
              "#sk-container-id-1 div.sk-toggleable__content {\n",
              "  max-height: 0;\n",
              "  max-width: 0;\n",
              "  overflow: hidden;\n",
              "  text-align: left;\n",
              "  /* unfitted */\n",
              "  background-color: var(--sklearn-color-unfitted-level-0);\n",
              "}\n",
              "\n",
              "#sk-container-id-1 div.sk-toggleable__content.fitted {\n",
              "  /* fitted */\n",
              "  background-color: var(--sklearn-color-fitted-level-0);\n",
              "}\n",
              "\n",
              "#sk-container-id-1 div.sk-toggleable__content pre {\n",
              "  margin: 0.2em;\n",
              "  border-radius: 0.25em;\n",
              "  color: var(--sklearn-color-text);\n",
              "  /* unfitted */\n",
              "  background-color: var(--sklearn-color-unfitted-level-0);\n",
              "}\n",
              "\n",
              "#sk-container-id-1 div.sk-toggleable__content.fitted pre {\n",
              "  /* unfitted */\n",
              "  background-color: var(--sklearn-color-fitted-level-0);\n",
              "}\n",
              "\n",
              "#sk-container-id-1 input.sk-toggleable__control:checked~div.sk-toggleable__content {\n",
              "  /* Expand drop-down */\n",
              "  max-height: 200px;\n",
              "  max-width: 100%;\n",
              "  overflow: auto;\n",
              "}\n",
              "\n",
              "#sk-container-id-1 input.sk-toggleable__control:checked~label.sk-toggleable__label-arrow:before {\n",
              "  content: \"▾\";\n",
              "}\n",
              "\n",
              "/* Pipeline/ColumnTransformer-specific style */\n",
              "\n",
              "#sk-container-id-1 div.sk-label input.sk-toggleable__control:checked~label.sk-toggleable__label {\n",
              "  color: var(--sklearn-color-text);\n",
              "  background-color: var(--sklearn-color-unfitted-level-2);\n",
              "}\n",
              "\n",
              "#sk-container-id-1 div.sk-label.fitted input.sk-toggleable__control:checked~label.sk-toggleable__label {\n",
              "  background-color: var(--sklearn-color-fitted-level-2);\n",
              "}\n",
              "\n",
              "/* Estimator-specific style */\n",
              "\n",
              "/* Colorize estimator box */\n",
              "#sk-container-id-1 div.sk-estimator input.sk-toggleable__control:checked~label.sk-toggleable__label {\n",
              "  /* unfitted */\n",
              "  background-color: var(--sklearn-color-unfitted-level-2);\n",
              "}\n",
              "\n",
              "#sk-container-id-1 div.sk-estimator.fitted input.sk-toggleable__control:checked~label.sk-toggleable__label {\n",
              "  /* fitted */\n",
              "  background-color: var(--sklearn-color-fitted-level-2);\n",
              "}\n",
              "\n",
              "#sk-container-id-1 div.sk-label label.sk-toggleable__label,\n",
              "#sk-container-id-1 div.sk-label label {\n",
              "  /* The background is the default theme color */\n",
              "  color: var(--sklearn-color-text-on-default-background);\n",
              "}\n",
              "\n",
              "/* On hover, darken the color of the background */\n",
              "#sk-container-id-1 div.sk-label:hover label.sk-toggleable__label {\n",
              "  color: var(--sklearn-color-text);\n",
              "  background-color: var(--sklearn-color-unfitted-level-2);\n",
              "}\n",
              "\n",
              "/* Label box, darken color on hover, fitted */\n",
              "#sk-container-id-1 div.sk-label.fitted:hover label.sk-toggleable__label.fitted {\n",
              "  color: var(--sklearn-color-text);\n",
              "  background-color: var(--sklearn-color-fitted-level-2);\n",
              "}\n",
              "\n",
              "/* Estimator label */\n",
              "\n",
              "#sk-container-id-1 div.sk-label label {\n",
              "  font-family: monospace;\n",
              "  font-weight: bold;\n",
              "  display: inline-block;\n",
              "  line-height: 1.2em;\n",
              "}\n",
              "\n",
              "#sk-container-id-1 div.sk-label-container {\n",
              "  text-align: center;\n",
              "}\n",
              "\n",
              "/* Estimator-specific */\n",
              "#sk-container-id-1 div.sk-estimator {\n",
              "  font-family: monospace;\n",
              "  border: 1px dotted var(--sklearn-color-border-box);\n",
              "  border-radius: 0.25em;\n",
              "  box-sizing: border-box;\n",
              "  margin-bottom: 0.5em;\n",
              "  /* unfitted */\n",
              "  background-color: var(--sklearn-color-unfitted-level-0);\n",
              "}\n",
              "\n",
              "#sk-container-id-1 div.sk-estimator.fitted {\n",
              "  /* fitted */\n",
              "  background-color: var(--sklearn-color-fitted-level-0);\n",
              "}\n",
              "\n",
              "/* on hover */\n",
              "#sk-container-id-1 div.sk-estimator:hover {\n",
              "  /* unfitted */\n",
              "  background-color: var(--sklearn-color-unfitted-level-2);\n",
              "}\n",
              "\n",
              "#sk-container-id-1 div.sk-estimator.fitted:hover {\n",
              "  /* fitted */\n",
              "  background-color: var(--sklearn-color-fitted-level-2);\n",
              "}\n",
              "\n",
              "/* Specification for estimator info (e.g. \"i\" and \"?\") */\n",
              "\n",
              "/* Common style for \"i\" and \"?\" */\n",
              "\n",
              ".sk-estimator-doc-link,\n",
              "a:link.sk-estimator-doc-link,\n",
              "a:visited.sk-estimator-doc-link {\n",
              "  float: right;\n",
              "  font-size: smaller;\n",
              "  line-height: 1em;\n",
              "  font-family: monospace;\n",
              "  background-color: var(--sklearn-color-background);\n",
              "  border-radius: 1em;\n",
              "  height: 1em;\n",
              "  width: 1em;\n",
              "  text-decoration: none !important;\n",
              "  margin-left: 0.5em;\n",
              "  text-align: center;\n",
              "  /* unfitted */\n",
              "  border: var(--sklearn-color-unfitted-level-1) 1pt solid;\n",
              "  color: var(--sklearn-color-unfitted-level-1);\n",
              "}\n",
              "\n",
              ".sk-estimator-doc-link.fitted,\n",
              "a:link.sk-estimator-doc-link.fitted,\n",
              "a:visited.sk-estimator-doc-link.fitted {\n",
              "  /* fitted */\n",
              "  border: var(--sklearn-color-fitted-level-1) 1pt solid;\n",
              "  color: var(--sklearn-color-fitted-level-1);\n",
              "}\n",
              "\n",
              "/* On hover */\n",
              "div.sk-estimator:hover .sk-estimator-doc-link:hover,\n",
              ".sk-estimator-doc-link:hover,\n",
              "div.sk-label-container:hover .sk-estimator-doc-link:hover,\n",
              ".sk-estimator-doc-link:hover {\n",
              "  /* unfitted */\n",
              "  background-color: var(--sklearn-color-unfitted-level-3);\n",
              "  color: var(--sklearn-color-background);\n",
              "  text-decoration: none;\n",
              "}\n",
              "\n",
              "div.sk-estimator.fitted:hover .sk-estimator-doc-link.fitted:hover,\n",
              ".sk-estimator-doc-link.fitted:hover,\n",
              "div.sk-label-container:hover .sk-estimator-doc-link.fitted:hover,\n",
              ".sk-estimator-doc-link.fitted:hover {\n",
              "  /* fitted */\n",
              "  background-color: var(--sklearn-color-fitted-level-3);\n",
              "  color: var(--sklearn-color-background);\n",
              "  text-decoration: none;\n",
              "}\n",
              "\n",
              "/* Span, style for the box shown on hovering the info icon */\n",
              ".sk-estimator-doc-link span {\n",
              "  display: none;\n",
              "  z-index: 9999;\n",
              "  position: relative;\n",
              "  font-weight: normal;\n",
              "  right: .2ex;\n",
              "  padding: .5ex;\n",
              "  margin: .5ex;\n",
              "  width: min-content;\n",
              "  min-width: 20ex;\n",
              "  max-width: 50ex;\n",
              "  color: var(--sklearn-color-text);\n",
              "  box-shadow: 2pt 2pt 4pt #999;\n",
              "  /* unfitted */\n",
              "  background: var(--sklearn-color-unfitted-level-0);\n",
              "  border: .5pt solid var(--sklearn-color-unfitted-level-3);\n",
              "}\n",
              "\n",
              ".sk-estimator-doc-link.fitted span {\n",
              "  /* fitted */\n",
              "  background: var(--sklearn-color-fitted-level-0);\n",
              "  border: var(--sklearn-color-fitted-level-3);\n",
              "}\n",
              "\n",
              ".sk-estimator-doc-link:hover span {\n",
              "  display: block;\n",
              "}\n",
              "\n",
              "/* \"?\"-specific style due to the `<a>` HTML tag */\n",
              "\n",
              "#sk-container-id-1 a.estimator_doc_link {\n",
              "  float: right;\n",
              "  font-size: 1rem;\n",
              "  line-height: 1em;\n",
              "  font-family: monospace;\n",
              "  background-color: var(--sklearn-color-background);\n",
              "  border-radius: 1rem;\n",
              "  height: 1rem;\n",
              "  width: 1rem;\n",
              "  text-decoration: none;\n",
              "  /* unfitted */\n",
              "  color: var(--sklearn-color-unfitted-level-1);\n",
              "  border: var(--sklearn-color-unfitted-level-1) 1pt solid;\n",
              "}\n",
              "\n",
              "#sk-container-id-1 a.estimator_doc_link.fitted {\n",
              "  /* fitted */\n",
              "  border: var(--sklearn-color-fitted-level-1) 1pt solid;\n",
              "  color: var(--sklearn-color-fitted-level-1);\n",
              "}\n",
              "\n",
              "/* On hover */\n",
              "#sk-container-id-1 a.estimator_doc_link:hover {\n",
              "  /* unfitted */\n",
              "  background-color: var(--sklearn-color-unfitted-level-3);\n",
              "  color: var(--sklearn-color-background);\n",
              "  text-decoration: none;\n",
              "}\n",
              "\n",
              "#sk-container-id-1 a.estimator_doc_link.fitted:hover {\n",
              "  /* fitted */\n",
              "  background-color: var(--sklearn-color-fitted-level-3);\n",
              "}\n",
              "</style><div id=\"sk-container-id-1\" class=\"sk-top-container\"><div class=\"sk-text-repr-fallback\"><pre>LogisticRegression()</pre><b>In a Jupyter environment, please rerun this cell to show the HTML representation or trust the notebook. <br />On GitHub, the HTML representation is unable to render, please try loading this page with nbviewer.org.</b></div><div class=\"sk-container\" hidden><div class=\"sk-item\"><div class=\"sk-estimator fitted sk-toggleable\"><input class=\"sk-toggleable__control sk-hidden--visually\" id=\"sk-estimator-id-1\" type=\"checkbox\" checked><label for=\"sk-estimator-id-1\" class=\"sk-toggleable__label fitted sk-toggleable__label-arrow\"><div><div>LogisticRegression</div></div><div><a class=\"sk-estimator-doc-link fitted\" rel=\"noreferrer\" target=\"_blank\" href=\"https://scikit-learn.org/1.6/modules/generated/sklearn.linear_model.LogisticRegression.html\">?<span>Documentation for LogisticRegression</span></a><span class=\"sk-estimator-doc-link fitted\">i<span>Fitted</span></span></div></label><div class=\"sk-toggleable__content fitted\"><pre>LogisticRegression()</pre></div> </div></div></div></div>"
            ]
          },
          "metadata": {},
          "execution_count": 34
        }
      ]
    },
    {
      "cell_type": "code",
      "source": [
        "(model.predict(X_test) == y_test).sum() / y_test.size\n",
        "#(model.predict(X_train) == y_train).sum() / y_test.size\n",
        "# it shows 100% and the example of overfitting, it memorizes the answer without learning\n"
      ],
      "metadata": {
        "id": "J05cMH15RjDH",
        "outputId": "fd03b930-3864-43a6-892f-64c6d3992382",
        "colab": {
          "base_uri": "https://localhost:8080/"
        }
      },
      "execution_count": 36,
      "outputs": [
        {
          "output_type": "execute_result",
          "data": {
            "text/plain": [
              "0.66"
            ]
          },
          "metadata": {},
          "execution_count": 36
        }
      ]
    },
    {
      "cell_type": "markdown",
      "metadata": {
        "id": "FyCDtA0QqikC"
      },
      "source": [
        "### **Exercise 7:** Evaluate your model manually\n",
        "\n",
        "1. Choose a random index of an image.\n",
        "2. Display the image.\n",
        "3. Print the original label.\n",
        "4. Print the predicted label.\n",
        "5. Repeat this process multiple times to identify which pictures are more challenging for the model."
      ]
    },
    {
      "cell_type": "markdown",
      "metadata": {
        "id": "cn8tvYOyqR5I"
      },
      "source": [
        "### **Exercise 8:** Report the overall accuracy of your classifier"
      ]
    },
    {
      "cell_type": "code",
      "execution_count": null,
      "metadata": {
        "id": "xo10iTsZq66K"
      },
      "outputs": [],
      "source": [
        "#you code here"
      ]
    },
    {
      "cell_type": "markdown",
      "metadata": {
        "id": "MODwrzh8rCti"
      },
      "source": [
        "## MNIST dataset (Exercise 9-12) - Optional, if you have extra time"
      ]
    },
    {
      "cell_type": "code",
      "execution_count": null,
      "metadata": {
        "colab": {
          "base_uri": "https://localhost:8080/"
        },
        "id": "7utkStuDrs96",
        "outputId": "03e72ac2-550c-473a-92c2-80834f946a21"
      },
      "outputs": [
        {
          "name": "stdout",
          "output_type": "stream",
          "text": [
            "Downloading data from https://storage.googleapis.com/tensorflow/tf-keras-datasets/mnist.npz\n",
            "\u001b[1m11490434/11490434\u001b[0m \u001b[32m━━━━━━━━━━━━━━━━━━━━\u001b[0m\u001b[37m\u001b[0m \u001b[1m0s\u001b[0m 0us/step\n"
          ]
        }
      ],
      "source": [
        "#import mnist dataset\n",
        "from keras.datasets import mnist\n",
        "(x_train, y_train), (x_test, y_test) = mnist.load_data()"
      ]
    },
    {
      "cell_type": "code",
      "execution_count": null,
      "metadata": {
        "colab": {
          "base_uri": "https://localhost:8080/"
        },
        "id": "EcCC08Sexfx0",
        "outputId": "5208dab7-f804-4058-bc11-9b19a715f1eb"
      },
      "outputs": [
        {
          "data": {
            "text/plain": [
              "(60000, 28, 28)"
            ]
          },
          "execution_count": 17,
          "metadata": {},
          "output_type": "execute_result"
        }
      ],
      "source": [
        "x_train.shape"
      ]
    },
    {
      "cell_type": "code",
      "execution_count": null,
      "metadata": {
        "colab": {
          "base_uri": "https://localhost:8080/",
          "height": 484
        },
        "id": "KMQ1_aSfxkZI",
        "outputId": "5a810ed9-bf92-4641-f663-3c36b91a7c65"
      },
      "outputs": [
        {
          "name": "stdout",
          "output_type": "stream",
          "text": [
            "Label:  8\n",
            "Image Shape:  (28, 28)\n"
          ]
        },
        {
          "data": {
            "text/plain": [
              "<matplotlib.colorbar.Colorbar at 0x7c7c40461390>"
            ]
          },
          "execution_count": 28,
          "metadata": {},
          "output_type": "execute_result"
        },
        {
          "data": {
            "image/png": "[encoded data removed]",
            "text/plain": [
              "<Figure size 640x480 with 2 Axes>"
            ]
          },
          "metadata": {},
          "output_type": "display_data"
        }
      ],
      "source": [
        "#Note: Run this cell multiple times\n",
        "index = np.random.randint(0, x_train.shape[0])\n",
        "print(\"Label: \", y_train[index])\n",
        "print(\"Image Shape: \", x_train[index].shape)\n",
        "plt.imshow(x_train[index], cmap='gray')\n",
        "plt.colorbar()"
      ]
    },
    {
      "cell_type": "markdown",
      "metadata": {
        "id": "FbfT3xU5Qz73"
      },
      "source": [
        "### **Excercise 9:** What is the difference between a black-and-white image and a color image in terms of numerical representation?\n",
        "\n",
        "### Hint: check the number of channels in the two types of images."
      ]
    },
    {
      "cell_type": "markdown",
      "metadata": {
        "id": "vPdYZ_xmRPgF"
      },
      "source": [
        "your answer here:"
      ]
    },
    {
      "cell_type": "markdown",
      "metadata": {
        "id": "yLGuNDA_OmlI"
      },
      "source": [
        "### **Exercise 10:** Select one data sample and flatten it. What is the size of the flattened image and why?"
      ]
    },
    {
      "cell_type": "code",
      "execution_count": null,
      "metadata": {
        "id": "-3Qn0NusO_O1"
      },
      "outputs": [],
      "source": [
        "## your code here"
      ]
    },
    {
      "cell_type": "markdown",
      "metadata": {
        "id": "q-5Chwg8PXEt"
      },
      "source": [
        "### **Excercise 11:** Flatten the images in Train and Test Datasets so that each image is a 1D array"
      ]
    },
    {
      "cell_type": "code",
      "execution_count": null,
      "metadata": {
        "id": "dZqqdh6IOvHz"
      },
      "outputs": [],
      "source": [
        "##your code here"
      ]
    },
    {
      "cell_type": "markdown",
      "metadata": {
        "id": "SjgTtvdiKYDn"
      },
      "source": [
        "### **Excercise 12:** Implement Logistic Regression on MNIST dataset using scikit-learn. What is the accuracy of your model?"
      ]
    },
    {
      "cell_type": "code",
      "execution_count": null,
      "metadata": {
        "id": "fm_3FX11KYDn"
      },
      "outputs": [],
      "source": [
        "#your code here"
      ]
    }
  ],
  "metadata": {
    "colab": {
      "provenance": [],
      "toc_visible": true
    },
    "kernelspec": {
      "display_name": "Python 3",
      "name": "python3"
    },
    "language_info": {
      "name": "python",
      "version": "3.13.1"
    }
  },
  "nbformat": 4,
  "nbformat_minor": 0
}